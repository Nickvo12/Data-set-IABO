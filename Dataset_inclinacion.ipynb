{
  "nbformat": 4,
  "nbformat_minor": 0,
  "metadata": {
    "colab": {
      "name": "Dataset_inclinacion.ipynb",
      "provenance": [],
      "collapsed_sections": []
    },
    "kernelspec": {
      "name": "python3",
      "display_name": "Python 3"
    },
    "language_info": {
      "name": "python"
    }
  },
  "cells": [
    {
      "cell_type": "code",
      "source": [
        "import openpyxl\n",
        "!git clone https://github.com/Nickvo12/Data-set-IABO.git\n"
      ],
      "metadata": {
        "colab": {
          "base_uri": "https://localhost:8080/"
        },
        "id": "CL-9ab6leOF2",
        "outputId": "bffab07c-1762-41b6-971e-6770da4383fe"
      },
      "execution_count": 1,
      "outputs": [
        {
          "output_type": "stream",
          "name": "stdout",
          "text": [
            "Cloning into 'Data-set-IABO'...\n",
            "remote: Enumerating objects: 29, done.\u001b[K\n",
            "remote: Counting objects: 100% (29/29), done.\u001b[K\n",
            "remote: Compressing objects: 100% (28/28), done.\u001b[K\n",
            "remote: Total 29 (delta 5), reused 0 (delta 0), pack-reused 0\u001b[K\n",
            "Unpacking objects: 100% (29/29), done.\n"
          ]
        }
      ]
    },
    {
      "cell_type": "markdown",
      "source": [
        "Librerias"
      ],
      "metadata": {
        "id": "XQoezdQdfy6y"
      }
    },
    {
      "cell_type": "code",
      "source": [
        "\n",
        "import pandas as pd\n",
        "import numpy as np\n",
        "import matplotlib.pyplot as plt\n",
        "import xlrd\n",
        "wb=xlrd.open_workbook(\"/content/Data-set-IABO/Dataset_inclinacion.xlsx\")"
      ],
      "metadata": {
        "id": "32Qd6zalf3hA"
      },
      "execution_count": 3,
      "outputs": []
    },
    {
      "cell_type": "markdown",
      "source": [
        "Datos\n",
        "\n",
        "Se sacan los datos del excel"
      ],
      "metadata": {
        "id": "dCaK_4bieQ1L"
      }
    },
    {
      "cell_type": "code",
      "source": [
        "sheet = wb.sheet_by_index(0)\n",
        "ax_f=sheet.col_values(0)\n",
        "ay_f=sheet.col_values(1)\n",
        "sheet = wb.sheet_by_index(1)\n",
        "ax_b=sheet.col_values(0)\n",
        "ay_b=sheet.col_values(1)\n",
        "sheet = wb.sheet_by_index(2)\n",
        "ax_r=sheet.col_values(0)\n",
        "ay_r=sheet.col_values(1)\n",
        "sheet = wb.sheet_by_index(3)\n",
        "ax_s=sheet.col_values(0)\n",
        "ay_s=sheet.col_values(1)\n",
        "sheet = wb.sheet_by_index(4)\n",
        "ax_l=sheet.col_values(0)\n",
        "ay_l=sheet.col_values(1)\n"
      ],
      "metadata": {
        "id": "HCZIVM9VeVqW"
      },
      "execution_count": 5,
      "outputs": []
    },
    {
      "cell_type": "markdown",
      "source": [
        "Segmentacion"
      ],
      "metadata": {
        "id": "unfMtlQegeXq"
      }
    },
    {
      "cell_type": "code",
      "source": [
        "N=10.0                      # Número de muestras\n",
        "nV=np.array(np.shape(ax_f))   # Número de muestras de la señal\n",
        "segment = np.floor(nV/N)    # Número de segmetos de la señal\n",
        "print(\"Segmentos : \",segment)"
      ],
      "metadata": {
        "colab": {
          "base_uri": "https://localhost:8080/"
        },
        "id": "Q6qSHcZ4gg_e",
        "outputId": "6f472511-34ec-45ab-c846-8f76a405803d"
      },
      "execution_count": 6,
      "outputs": [
        {
          "output_type": "stream",
          "name": "stdout",
          "text": [
            "Segmentos :  [10.]\n"
          ]
        }
      ]
    },
    {
      "cell_type": "markdown",
      "source": [
        "Varianza\n",
        "Se calcula la varianza de los cinco estados de inclinacion"
      ],
      "metadata": {
        "id": "7ZVtY2hveYcH"
      }
    },
    {
      "cell_type": "code",
      "source": [
        "var_ventana_ax_f=[]\n",
        "var_ventana_ay_f=[]\n",
        "var_ventana_ax_b=[]\n",
        "var_ventana_ay_b=[]\n",
        "var_ventana_ax_s=[]\n",
        "var_ventana_ay_s=[]\n",
        "var_ventana_ax_r=[]\n",
        "var_ventana_ay_r=[]\n",
        "var_ventana_ax_l=[]\n",
        "var_ventana_ay_l=[]\n",
        "\n",
        "for i in range (0,np.int(segment)):\n",
        "  ventana_ax_f=ax_f[int(i*N):int((i+1)*N)]\n",
        "  ventana_ay_f=ay_f[int(i*N):int((i+1)*N)]\n",
        "  var_ventana_ax_f.append(np.var(ventana_ax_f))\n",
        "  var_ventana_ay_f.append(np.var(ventana_ay_f))\n",
        "\n",
        "  ventana_ax_b=ax_b[int(i*N):int((i+1)*N)]\n",
        "  ventana_ay_b=ay_b[int(i*N):int((i+1)*N)]\n",
        "  var_ventana_ax_b.append(np.var(ventana_ax_b))\n",
        "  var_ventana_ay_b.append(np.var(ventana_ay_b))\n",
        "\n",
        "  ventana_ax_s=ax_s[int(i*N):int((i+1)*N)]\n",
        "  ventana_ay_s=ay_s[int(i*N):int((i+1)*N)]\n",
        "  var_ventana_ax_s.append(np.var(ventana_ax_s))\n",
        "  var_ventana_ay_s.append(np.var(ventana_ay_s))\n",
        "\n",
        "  ventana_ax_r=ax_r[int(i*N):int((i+1)*N)]\n",
        "  ventana_ay_r=ay_r[int(i*N):int((i+1)*N)]\n",
        "  var_ventana_ax_r.append(np.var(ventana_ax_r))\n",
        "  var_ventana_ay_r.append(np.var(ventana_ay_r))\n",
        "\n",
        "  ventana_ax_l=ax_l[int(i*N):int((i+1)*N)]\n",
        "  ventana_ay_l=ay_l[int(i*N):int((i+1)*N)]\n",
        "  var_ventana_ax_l.append(np.var(ventana_ax_l))\n",
        "  var_ventana_ay_l.append(np.var(ventana_ay_l))  \n",
        "\n",
        "\n",
        "# plt.subplot(211)\n",
        "# plt.plot(var_ventana_ax_f)\n",
        "# plt.subplot(212)\n",
        "# plt.plot(var_ventana_ay_f)\n",
        "# plt.figure()\n",
        "# plt.subplot(211)\n",
        "# plt.plot(var_ventana_ax_b)\n",
        "# plt.subplot(212)\n",
        "# plt.plot(var_ventana_ay_b)\n",
        "# plt.figure()\n",
        "# plt.subplot(211)\n",
        "# plt.plot(var_ventana_ax_s)\n",
        "# plt.subplot(212)\n",
        "# plt.plot(var_ventana_ay_s)\n",
        "# plt.figure()\n",
        "# plt.subplot(211)\n",
        "# plt.plot(var_ventana_ax_r)\n",
        "# plt.subplot(212)\n",
        "# plt.plot(var_ventana_ay_r)\n",
        "# plt.figure()\n",
        "# plt.subplot(211)\n",
        "# plt.plot(var_ventana_ax_l)\n",
        "# plt.subplot(212)\n",
        "# plt.plot(var_ventana_ay_l)\n",
        "# plt.figure()\n"
      ],
      "metadata": {
        "colab": {
          "base_uri": "https://localhost:8080/"
        },
        "id": "XP8AuWTGedc9",
        "outputId": "b7278f21-a3ef-46e4-91b2-1064303b9592"
      },
      "execution_count": 7,
      "outputs": [
        {
          "output_type": "stream",
          "name": "stderr",
          "text": [
            "/usr/local/lib/python3.7/dist-packages/ipykernel_launcher.py:12: DeprecationWarning: `np.int` is a deprecated alias for the builtin `int`. To silence this warning, use `int` by itself. Doing this will not modify any behavior and is safe. When replacing `np.int`, you may wish to use e.g. `np.int64` or `np.int32` to specify the precision. If you wish to review your current use, check the release note link for additional information.\n",
            "Deprecated in NumPy 1.20; for more details and guidance: https://numpy.org/devdocs/release/1.20.0-notes.html#deprecations\n",
            "  if sys.path[0] == '':\n"
          ]
        }
      ]
    },
    {
      "cell_type": "markdown",
      "source": [
        "Caracteristicas\n"
      ],
      "metadata": {
        "id": "OiiWg70sesCI"
      }
    },
    {
      "cell_type": "code",
      "source": [
        "N=np.size(var_ventana_ay_f)\n",
        "print(N)\n",
        "clases=[]\n",
        "for n in range(N):\n",
        "  clases.append(0)\n",
        "N=np.size(var_ventana_ay_b)\n",
        "print(N)\n",
        "for n in range(N):\n",
        "  clases.append(1)\n",
        "N=np.size(var_ventana_ay_s)\n",
        "print(N)\n",
        "for n in range(N):\n",
        "  clases.append(2)\n",
        "N=np.size(var_ventana_ay_r)\n",
        "print(N)\n",
        "for n in range(N):\n",
        "  clases.append(3)\n",
        "N=np.size(var_ventana_ay_l)\n",
        "print(N)\n",
        "for n in range(N):\n",
        "  clases.append(4)\n",
        "clases=np.transpose(clases)\n",
        "caracteristica1=var_ventana_ax_f+var_ventana_ax_b+var_ventana_ax_s+var_ventana_ax_r+var_ventana_ax_l\n",
        "caracteristica2=var_ventana_ay_f+var_ventana_ay_b+var_ventana_ay_s+var_ventana_ay_r+var_ventana_ay_l\n",
        "caracteristicas=[caracteristica1,caracteristica2]\n",
        "caracteristicas=np.array(np.transpose(caracteristicas))"
      ],
      "metadata": {
        "colab": {
          "base_uri": "https://localhost:8080/"
        },
        "id": "Q2AN2sDXeuox",
        "outputId": "d97f1b7c-aab8-4c0b-a814-30e78e2dff96"
      },
      "execution_count": 8,
      "outputs": [
        {
          "output_type": "stream",
          "name": "stdout",
          "text": [
            "10\n",
            "10\n",
            "10\n",
            "10\n",
            "10\n"
          ]
        }
      ]
    },
    {
      "cell_type": "markdown",
      "source": [
        "Creacion de Datagrama\n",
        "\n",
        "Creacion de datagrama de varianzas"
      ],
      "metadata": {
        "id": "cG2Pg7VTeltC"
      }
    },
    {
      "cell_type": "code",
      "execution_count": 9,
      "metadata": {
        "colab": {
          "base_uri": "https://localhost:8080/"
        },
        "id": "vURKUwajeF1q",
        "outputId": "99b0995e-659a-4229-f561-d22a33fd6ba7"
      },
      "outputs": [
        {
          "output_type": "stream",
          "name": "stdout",
          "text": [
            "    Varianza_aX  Varianza_aY  Estado\n",
            "0     57.924211    13.792746       0\n",
            "1      7.495348    43.057537       0\n",
            "2      1.962274   158.253111       0\n",
            "3      4.813645   252.264634       0\n",
            "4      1.330131   201.212405       0\n",
            "5      9.988239   121.946377       0\n",
            "6      2.451838   206.443335       0\n",
            "7      1.937906   249.007469       0\n",
            "8      0.496460   571.967491       0\n",
            "9      0.607542    85.337585       0\n",
            "10   336.663368     8.589217       1\n",
            "11    94.654131     2.510255       1\n",
            "12   449.685837    16.017155       1\n",
            "13   254.380618     1.271659       1\n",
            "14   519.665170     0.142824       1\n",
            "15    91.311318     0.153582       1\n",
            "16   432.280404     0.706589       1\n",
            "17   136.432224     6.760241       1\n",
            "18   117.748967     6.457663       1\n",
            "19    81.825646     3.579939       1\n",
            "20     0.197766     1.024923       2\n",
            "21     3.439868     0.524440       2\n",
            "22     6.335728     8.307716       2\n",
            "23    14.068378    24.600872       2\n",
            "24    11.339081    37.922113       2\n",
            "25     9.114360    10.838306       2\n",
            "26     3.432039    15.036666       2\n",
            "27     2.017734    30.417682       2\n",
            "28     3.078713    34.843980       2\n",
            "29     3.571570     6.041162       2\n",
            "30     0.852189     1.592571       3\n",
            "31   200.964431    13.273022       3\n",
            "32   454.247789     1.700674       3\n",
            "33   290.538504     0.362352       3\n",
            "34   359.098012     0.330644       3\n",
            "35   121.229382     8.908768       3\n",
            "36   213.433868     0.595237       3\n",
            "37   404.107755     0.384182       3\n",
            "38   384.955790     0.449910       3\n",
            "39    36.594860     2.501171       3\n",
            "40    10.129466    44.304514       4\n",
            "41    10.623609    65.047315       4\n",
            "42     0.061986    49.658883       4\n",
            "43     2.433746    54.250241       4\n",
            "44     0.729285   225.796126       4\n",
            "45     3.034257   410.183975       4\n",
            "46     0.628917   136.682160       4\n",
            "47     5.634667    73.174638       4\n",
            "48     6.483480    79.227405       4\n",
            "49    61.133178    36.935913       4\n"
          ]
        }
      ],
      "source": [
        "# Creación del DataFrame\n",
        "import pandas as pd\n",
        "\n",
        "datosV={'Varianza_aX': caracteristica1,\n",
        "       'Varianza_aY': caracteristica2,\n",
        "       'Estado':clases}\n",
        "\n",
        "datosDF=pd.DataFrame(datosV)\n",
        "print(datosDF)\n",
        "datosDF.to_excel(\"caracteristicas.xlsx\")\n"
      ]
    },
    {
      "cell_type": "markdown",
      "source": [
        "Creacion de datagrama de acelerometro"
      ],
      "metadata": {
        "id": "jf2J3emte2Uq"
      }
    },
    {
      "cell_type": "code",
      "source": [
        "# Creación del DataFrame\n",
        "import pandas as pd\n",
        "ax = ax_f + ax_b +ax_s + ax_r + ax_l\n",
        "ay = ay_f + ay_b +ay_s + ay_r + ay_l\n",
        "\n",
        "N=np.size(ay_f)\n",
        "print(N)\n",
        "clases=[]\n",
        "for n in range(N):\n",
        "  clases.append(0)\n",
        "N=np.size(ay_b)\n",
        "print(N)\n",
        "for n in range(N):\n",
        "  clases.append(1)\n",
        "N=np.size(ay_s)\n",
        "print(N)\n",
        "for n in range(N):\n",
        "  clases.append(2)\n",
        "N=np.size(ay_r)\n",
        "print(N)\n",
        "for n in range(N):\n",
        "  clases.append(3)\n",
        "N=np.size(ay_l)\n",
        "print(N)\n",
        "for n in range(N):\n",
        "  clases.append(4)\n",
        "clases=np.transpose(clases)\n",
        "\n",
        "datosV={'aX': ax,\n",
        "        'aY': ay,\n",
        "        'Estado':clases}\n",
        "\n",
        "datosDF=pd.DataFrame(datosV)\n",
        "print(datosDF)\n"
      ],
      "metadata": {
        "colab": {
          "base_uri": "https://localhost:8080/"
        },
        "id": "uT_IUpUte7V9",
        "outputId": "03137d08-d42a-4340-9555-7adc12c82025"
      },
      "execution_count": 10,
      "outputs": [
        {
          "output_type": "stream",
          "name": "stdout",
          "text": [
            "100\n",
            "100\n",
            "100\n",
            "100\n",
            "100\n",
            "          aX      aY  Estado\n",
            "0   -100.842  -5.762       0\n",
            "1   -100.061   4.211       0\n",
            "2    -96.729  -0.049       0\n",
            "3    -93.567   0.098       0\n",
            "4    -91.003  -1.208       0\n",
            "..       ...     ...     ...\n",
            "495   37.378  69.897       4\n",
            "496   41.479  65.674       4\n",
            "497   44.775  60.522       4\n",
            "498   45.435  66.223       4\n",
            "499   56.226  60.522       4\n",
            "\n",
            "[500 rows x 3 columns]\n"
          ]
        }
      ]
    },
    {
      "cell_type": "code",
      "source": [
        "datosDF.to_excel(\"DataFrame_Inclinacion.xlsx\")"
      ],
      "metadata": {
        "id": "zhlKNmfufCmt"
      },
      "execution_count": 11,
      "outputs": []
    }
  ]
}